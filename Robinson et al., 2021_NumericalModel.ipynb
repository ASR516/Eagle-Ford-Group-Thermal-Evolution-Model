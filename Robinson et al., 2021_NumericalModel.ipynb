{
 "cells": [
  {
   "cell_type": "markdown",
   "metadata": {},
   "source": [
    "# Thermal Evolution Model for Calcite Recrystallisation and Organic Matter "
   ]
  },
  {
   "cell_type": "markdown",
   "metadata": {},
   "source": [
    "### Setting up the CoNus Library\n",
    "\n",
    "First of all we need to set up CoNus with Almond within the Jupyter Notebook."
   ]
  },
  {
   "cell_type": "code",
   "execution_count": 1,
   "metadata": {},
   "outputs": [],
   "source": [
    "//Using the CoNus library with Jupyter Notebook with Almond kernal, add the following resolver:\n",
    "interp.repositories() ++= Seq(coursierapi.MavenRepository.of(\n",
    "\"https://jitpack.io\"\n",
    "))"
   ]
  },
  {
   "cell_type": "code",
   "execution_count": 2,
   "metadata": {},
   "outputs": [
    {
     "data": {
      "text/plain": [
       "\u001b[32mimport \u001b[39m\u001b[36m$ivy.$                                    \u001b[39m"
      ]
     },
     "execution_count": 2,
     "metadata": {},
     "output_type": "execute_result"
    }
   ],
   "source": [
    "//import the CoNus library\n",
    "import $ivy. `org.carbonateresearch::conus:0.2.3`"
   ]
  },
  {
   "cell_type": "code",
   "execution_count": 3,
   "metadata": {},
   "outputs": [
    {
     "data": {
      "text/plain": [
       "\u001b[32mimport \u001b[39m\u001b[36morg.carbonateresearch.conus._ //wildcard import\n",
       "\u001b[39m\n",
       "\u001b[32mimport \u001b[39m\u001b[36morg.carbonateresearch.conus.modelzoo.GeneralGeology._ //general geology model\n",
       "\u001b[39m\n",
       "\u001b[32mimport \u001b[39m\u001b[36morg.carbonateresearch.conus.modelzoo.PasseyHenkesClumpedDiffusionModel._ //solid state diffusion model\u001b[39m"
      ]
     },
     "execution_count": 3,
     "metadata": {},
     "output_type": "execute_result"
    }
   ],
   "source": [
    "//Importing stepped models\n",
    "import org.carbonateresearch.conus._ //wildcard import\n",
    "import org.carbonateresearch.conus.modelzoo.GeneralGeology._ //general geology model\n",
    "import org.carbonateresearch.conus.modelzoo.PasseyHenkesClumpedDiffusionModel._ //solid state diffusion model"
   ]
  },
  {
   "cell_type": "code",
   "execution_count": 4,
   "metadata": {},
   "outputs": [
    {
     "name": "stdout",
     "output_type": "stream",
     "text": [
      "16:46:02.958 [CoNuS-akka.actor.default-dispatcher-3] INFO akka.event.slf4j.Slf4jLogger - Slf4jLogger started\n"
     ]
    },
    {
     "name": "stderr",
     "output_type": "stream",
     "text": [
      "SLF4J: A number (1) of logging calls during the initialization phase have been intercepted and are\n",
      "SLF4J: now being replayed. These are subject to the filtering rules of the underlying logging system.\n",
      "SLF4J: See also http://www.slf4j.org/codes.html#replay\n"
     ]
    },
    {
     "data": {
      "text/plain": [
       "\u001b[36msim\u001b[39m: \u001b[32mAlmondSimulator\u001b[39m = org.carbonateresearch.conus.AlmondSimulator@6326bb96"
      ]
     },
     "execution_count": 4,
     "metadata": {},
     "output_type": "execute_result"
    }
   ],
   "source": [
    "//For the Almond kernal, create an Almond Simulator\n",
    "val sim = new AlmondSimulator"
   ]
  },
  {
   "cell_type": "markdown",
   "metadata": {},
   "source": [
    "### CoNus Forward Model Set Up\n",
    "\n",
    "Below is a step by step layout of the model set up for this forward model. Model is looking to understand temepratures reached during burial and how calcite recrystallisation versus organic matter transofrmation records them."
   ]
  },
  {
   "cell_type": "code",
   "execution_count": 5,
   "metadata": {},
   "outputs": [
    {
     "data": {
      "text/plain": [
       "\u001b[36mrhocal\u001b[39m: \u001b[32mDouble\u001b[39m = \u001b[32m2.71\u001b[39m\n",
       "\u001b[36mrhofluid\u001b[39m: \u001b[32mDouble\u001b[39m = \u001b[32m1.029\u001b[39m\n",
       "\u001b[36mcOfluid\u001b[39m: \u001b[32mInt\u001b[39m = \u001b[32m889000\u001b[39m\n",
       "\u001b[36mcCfluid\u001b[39m: \u001b[32mInt\u001b[39m = \u001b[32m29\u001b[39m\n",
       "\u001b[36mcOcalcite\u001b[39m: \u001b[32mInt\u001b[39m = \u001b[32m18000\u001b[39m\n",
       "\u001b[36mcCcalcite\u001b[39m: \u001b[32mInt\u001b[39m = \u001b[32m120000\u001b[39m\n",
       "\u001b[36mA\u001b[39m: \u001b[32mDouble\u001b[39m = \u001b[32m3.012E13\u001b[39m\n",
       "\u001b[36mEa\u001b[39m: \u001b[32mInt\u001b[39m = \u001b[32m220000\u001b[39m\n",
       "\u001b[36mR\u001b[39m: \u001b[32mDouble\u001b[39m = \u001b[32m8.31\u001b[39m\n",
       "\u001b[36mPoro\u001b[39m: \u001b[32mDouble\u001b[39m = \u001b[32m0.1\u001b[39m"
      ]
     },
     "execution_count": 5,
     "metadata": {},
     "output_type": "execute_result"
    }
   ],
   "source": [
    "// Constant variables\n",
    "val rhocal:Double = 2.71 //Density of carbonates\n",
    "val rhofluid = 1.029 //Density of seawater\n",
    "val cOfluid = 889000 //concentration of Oxygen in fluid\n",
    "val cCfluid = 29 //concentration of Carbon in fluid\n",
    "val cOcalcite = 18000 //480000 //concentration of Oxygen in stoichiometric calcite\n",
    "val cCcalcite = 120000 //concentration of Carbon in stoichiometric calcite\n",
    "val A = 3.012E13 //frequency factor of type II organic matter (Burnham & Sweeney, 1989)\n",
    "val Ea = 220000 //Activation Energy of organic matter (Qigui et al., 2010)\n",
    "val R = 8.31 //gas constant\n",
    "val Poro = 0.1 //porosity of formation"
   ]
  },
  {
   "cell_type": "code",
   "execution_count": 6,
   "metadata": {
    "scrolled": true
   },
   "outputs": [
    {
     "data": {
      "text/html": [
       "Variable <b>Initial age</b> with initial value of 97.0 Ma  defined"
      ]
     },
     "metadata": {},
     "output_type": "display_data"
    },
    {
     "data": {
      "text/html": [
       "Variable <b>Final age</b> with initial value of 0.0 Ma  defined"
      ]
     },
     "metadata": {},
     "output_type": "display_data"
    },
    {
     "data": {
      "text/html": [
       "Variable <b>Fraction of Recrystallisation</b> with initial value of 0.1   defined"
      ]
     },
     "metadata": {},
     "output_type": "display_data"
    },
    {
     "data": {
      "text/html": [
       "Variable <b>Fraction of Fluid Exchange (Mixing of fluids)</b> with initial value of 0.01   defined"
      ]
     },
     "metadata": {},
     "output_type": "display_data"
    },
    {
     "data": {
      "text/html": [
       "Variable <b>Weight fraction of fluid</b> with initial value of 0.01   defined"
      ]
     },
     "metadata": {},
     "output_type": "display_data"
    },
    {
     "data": {
      "text/html": [
       "Variable <b>Fluid Oxygen composition from mixing of fluids due to fluid exchange</b> with initial value of -4.0 ‰  defined"
      ]
     },
     "metadata": {},
     "output_type": "display_data"
    },
    {
     "data": {
      "text/html": [
       "Variable <b>Fluid Oxygen composition after dissolution</b> with initial value of -4.0 ‰  defined"
      ]
     },
     "metadata": {},
     "output_type": "display_data"
    },
    {
     "data": {
      "text/html": [
       "Variable <b>Oxygen Composition of the new phase of calcite</b> with initial value of -6.0 ‰  defined"
      ]
     },
     "metadata": {},
     "output_type": "display_data"
    },
    {
     "data": {
      "text/html": [
       "Variable <b>Fluid Oxygen composition after reprecipitation of calcite</b> with initial value of -4.0 ‰  defined"
      ]
     },
     "metadata": {},
     "output_type": "display_data"
    },
    {
     "data": {
      "text/html": [
       "Variable <b>Oxygen composition of the bulk rock</b> with initial value of -6.0 ‰  defined"
      ]
     },
     "metadata": {},
     "output_type": "display_data"
    },
    {
     "data": {
      "text/html": [
       "Variable <b>Fluid Carbon composition from mixing of fluids due to fluid exchange</b> with initial value of -3.0 ‰  defined"
      ]
     },
     "metadata": {},
     "output_type": "display_data"
    },
    {
     "data": {
      "text/html": [
       "Variable <b>Fluid Carbon composition after dissolution</b> with initial value of -3.0 ‰  defined"
      ]
     },
     "metadata": {},
     "output_type": "display_data"
    },
    {
     "data": {
      "text/html": [
       "Variable <b>Carbon Composition of the new phase of calcite</b> with initial value of 0.5 ‰  defined"
      ]
     },
     "metadata": {},
     "output_type": "display_data"
    },
    {
     "data": {
      "text/html": [
       "Variable <b>Fluid carbon composition after reprecipitation of calcite</b> with initial value of -3.0 ‰  defined"
      ]
     },
     "metadata": {},
     "output_type": "display_data"
    },
    {
     "data": {
      "text/html": [
       "Variable <b>Carbon composition of the bulk rock</b> with initial value of 0.5 ‰  defined"
      ]
     },
     "metadata": {},
     "output_type": "display_data"
    },
    {
     "data": {
      "text/html": [
       "Variable <b>D47 with partial recrystallization</b> with initial value of 0.59 ‰  defined"
      ]
     },
     "metadata": {},
     "output_type": "display_data"
    },
    {
     "data": {
      "text/html": [
       "Variable <b>Recrystallisation Temperature</b> with initial value of 25.0 ˚C  defined"
      ]
     },
     "metadata": {},
     "output_type": "display_data"
    },
    {
     "data": {
      "text/html": [
       "Variable <b>Initial burial at model start</b> with initial value of 0.0 meters  defined"
      ]
     },
     "metadata": {},
     "output_type": "display_data"
    },
    {
     "data": {
      "text/html": [
       "Variable <b>Back calculated fluid composition</b> with initial value of -4.0 ‰   defined"
      ]
     },
     "metadata": {},
     "output_type": "display_data"
    },
    {
     "data": {
      "text/html": [
       "Variable <b>Organic reaction rate</b> with initial value of 3.28E-26   defined"
      ]
     },
     "metadata": {},
     "output_type": "display_data"
    },
    {
     "data": {
      "text/html": [
       "Variable <b>Apparent organic temperature</b> with initial value of 25.0 ˚C  defined"
      ]
     },
     "metadata": {},
     "output_type": "display_data"
    },
    {
     "data": {
      "text/html": [
       "Variable <b>Maximum Burial Depth</b> with initial value of 0.0 m  defined"
      ]
     },
     "metadata": {},
     "output_type": "display_data"
    }
   ],
   "source": [
    "// setting model variables\n",
    "val initialAge:ModelVariable[Double] = ModelVariable(\"Initial age\",97.0,\"Ma\")\n",
    "val finalAge:ModelVariable[Double] = ModelVariable(\"Final age\",0.0,\"Ma\")\n",
    "val fractionRecrystallisation:ModelVariable[Double] = ModelVariable(\"Fraction of Recrystallisation\", 0.1,\"\")\n",
    "val fractionFluidExchange:ModelVariable[Double] = ModelVariable (\"Fraction of Fluid Exchange (Mixing of fluids)\", 0.01, \"\")\n",
    "val weightFractionFluid:ModelVariable[Double] = ModelVariable(\"Weight fraction of fluid\",0.01,\"\")\n",
    "val d18OfluidMixed:ModelVariable[Double] = ModelVariable(\"Fluid Oxygen composition from mixing of fluids due to fluid exchange\", -4.0,\"‰\")\n",
    "val d18OfluidAfterDissolution:ModelVariable[Double] = ModelVariable(\"Fluid Oxygen composition after dissolution\", -4.0,\"‰\")\n",
    "val d18OcalciteNewPhase: ModelVariable[Double] = ModelVariable(\"Oxygen Composition of the new phase of calcite\", -6.0,\"‰\") //calculated from fluid (-4) using kim equation\n",
    "val d18OfluidAfterReprecipitation: ModelVariable[Double] = ModelVariable(\"Fluid Oxygen composition after reprecipitation of calcite\", -4.0,\"‰\")\n",
    "val d18OcalciteBulkFinal: ModelVariable[Double] = ModelVariable(\"Oxygen composition of the bulk rock\", -6.0, \"‰\") //calculated from fluid (-4) using kim equation\n",
    "val d13CfluidMixed:ModelVariable[Double] = ModelVariable(\"Fluid Carbon composition from mixing of fluids due to fluid exchange\", -3.0,\"‰\")\n",
    "val d13CfluidAfterDissolution:ModelVariable[Double] = ModelVariable(\"Fluid Carbon composition after dissolution\", -3.0,\"‰\")\n",
    "val d13CcalciteNewPhase: ModelVariable[Double] = ModelVariable(\"Carbon Composition of the new phase of calcite\", 0.5,\"‰\")\n",
    "val d13CfluidAfterReprecipitation:ModelVariable[Double] = ModelVariable(\"Fluid carbon composition after reprecipitation of calcite\", -3.0,\"‰\")\n",
    "val d13CcalciteBulkFinal:ModelVariable[Double] = ModelVariable(\"Carbon composition of the bulk rock\", 0.5, \"‰\")\n",
    "val D47rec:ModelVariable[Double] = ModelVariable(\"D47 with partial recrystallization\",.59,\"‰\")\n",
    "val sampleTempRecrystallised:ModelVariable[Double] = ModelVariable(\"Recrystallisation Temperature\",25,\"˚C\")\n",
    "val initalBurialAtModelStart:ModelVariable[Double] = ModelVariable(\"Initial burial at model start\",0.0,\"meters\")\n",
    "val d18OfluidBackCalculated:ModelVariable[Double] = ModelVariable(\"Back calculated fluid composition\",-4.0, \"‰ \")\n",
    "val reactionRateOrganics:ModelVariable[Double] = ModelVariable(\"Organic reaction rate\",3.28E-26) \n",
    "val apparentTempOrganics:ModelVariable[Double] = ModelVariable(\"Apparent organic temperature\",25,\"˚C\")\n",
    "val maxBurialDepth:ModelVariable[Double] = ModelVariable(\"Maximum Burial Depth\",0, \"m\")"
   ]
  },
  {
   "cell_type": "code",
   "execution_count": 37,
   "metadata": {},
   "outputs": [
    {
     "data": {
      "text/plain": [
       "\u001b[36mburialHistory\u001b[39m: \u001b[32mList\u001b[39m[(\u001b[32mDouble\u001b[39m, \u001b[32mDouble\u001b[39m)] = \u001b[33mList\u001b[39m(\n",
       "  (\u001b[32m97.0\u001b[39m, \u001b[32m0.0\u001b[39m),\n",
       "  (\u001b[32m62.0\u001b[39m, \u001b[32m4000.0\u001b[39m),\n",
       "  (\u001b[32m0.0\u001b[39m, \u001b[32m-70.0\u001b[39m)\n",
       ")\n",
       "\u001b[36mgeothermalGradientHistory\u001b[39m: \u001b[32mList\u001b[39m[(\u001b[32mDouble\u001b[39m, \u001b[32mDouble\u001b[39m)] = \u001b[33mList\u001b[39m(\n",
       "  (\u001b[32m97.0\u001b[39m, \u001b[32m21.84\u001b[39m),\n",
       "  (\u001b[32m0.0\u001b[39m, \u001b[32m30.0\u001b[39m)\n",
       ")\n",
       "\u001b[36msurfaceTemperaturesHistory\u001b[39m: \u001b[32mList\u001b[39m[(\u001b[32mDouble\u001b[39m, \u001b[32mDouble\u001b[39m)] = \u001b[33mList\u001b[39m(\n",
       "  (\u001b[32m97.0\u001b[39m, \u001b[32m25.0\u001b[39m),\n",
       "  (\u001b[32m0.0\u001b[39m, \u001b[32m20.6\u001b[39m)\n",
       ")\n",
       "\u001b[36mnumberOfSteps\u001b[39m: \u001b[32mInt\u001b[39m = \u001b[32m140\u001b[39m\n",
       "\u001b[36mageList\u001b[39m: \u001b[32mList\u001b[39m[\u001b[32mDouble\u001b[39m] = \u001b[33mList\u001b[39m(\u001b[32m97.0\u001b[39m)\n",
       "\u001b[36mfinalAgeList\u001b[39m: \u001b[32mList\u001b[39m[\u001b[32mDouble\u001b[39m] = \u001b[33mList\u001b[39m(\u001b[32m0.0\u001b[39m)\n",
       "\u001b[36mfractionRecrystallisationList\u001b[39m: \u001b[32mList\u001b[39m[\u001b[32mDouble\u001b[39m] = \u001b[33mList\u001b[39m(\u001b[32m0.1\u001b[39m)"
      ]
     },
     "execution_count": 37,
     "metadata": {},
     "output_type": "execute_result"
    }
   ],
   "source": [
    "// Initialise model conditions as lists\n",
    "val burialHistory = List((97.0,0.0), (62.0, 4000.0), (0.0,-70.0))\n",
    "val geothermalGradientHistory= List((97.0, 21.84),(0.0, 30.0)) \n",
    "val surfaceTemperaturesHistory = List((97.0,25.0),(0.0,20.6))\n",
    "val numberOfSteps = 140\n",
    "val ageList:List[Double] = List(97.0)\n",
    "val finalAgeList:List[Double] = List(0.0)\n",
    "val fractionRecrystallisationList:List[Double] = List(0.1)"
   ]
  },
  {
   "cell_type": "markdown",
   "metadata": {},
   "source": [
    "### Equations inputted into model\n",
    "#### Carbon and Oxygen composition of fluid based on fluid exchange takes the mixed fluid (original fluid) from the previous step and the fraction of the fluid after dissolution (final fluid) from the previous step."
   ]
  },
  {
   "cell_type": "code",
   "execution_count": 38,
   "metadata": {
    "scrolled": true
   },
   "outputs": [
    {
     "data": {
      "text/plain": [
       "\u001b[32mimport \u001b[39m\u001b[36mmath._\n",
       "//Oxygen composition - based on fluid exchange\n",
       "\u001b[39m\n",
       "\u001b[36md18OfluidMixedFun\u001b[39m: \u001b[32mStep\u001b[39m => \u001b[32mDouble\u001b[39m = ammonite.$sess.cmd37$Helper$$Lambda$3297/0x00000008015ae318@4b05e762\n",
       "\u001b[36md13CfluidMixedFun\u001b[39m: \u001b[32mStep\u001b[39m => \u001b[32mDouble\u001b[39m = ammonite.$sess.cmd37$Helper$$Lambda$3298/0x00000008015ae6e8@45062898"
      ]
     },
     "execution_count": 38,
     "metadata": {},
     "output_type": "execute_result"
    }
   ],
   "source": [
    "//Fluid composition based of fluid exchange - prior to any dissolution of carbonate\n",
    "import math._\n",
    "//Oxygen composition - based on fluid exchange\n",
    "val d18OfluidMixedFun = (s:Step) => (d18OfluidMixed(s-1) * (1 - fractionFluidExchange(s)) + d18OfluidAfterReprecipitation(s-1) * fractionFluidExchange(s))\n",
    "\n",
    "//Carbon composition - based on fluid exchange\n",
    "val d13CfluidMixedFun = (s:Step) => (d13CfluidMixed(s-1) * (1 - fractionFluidExchange(s)) + d13CfluidAfterReprecipitation(s-1) * fractionFluidExchange(s))"
   ]
  },
  {
   "cell_type": "markdown",
   "metadata": {},
   "source": [
    "#### Carbon and Oxygen composition of fluid based on the amount of interaction between the rock and the fluid. Equations taken from Banner & Hanson (1990).\n",
    "\n",
    "**cOsystem** - concentration of oxygen in the system\n",
    "\n",
    "**cCsystem** - concentraction of carbon in the system\n"
   ]
  },
  {
   "cell_type": "code",
   "execution_count": 39,
   "metadata": {},
   "outputs": [
    {
     "data": {
      "text/plain": [
       "\u001b[36md18OfluidAfterDissolutionFun\u001b[39m: \u001b[32mStep\u001b[39m => \u001b[32mDouble\u001b[39m = ammonite.$sess.cmd38$Helper$$Lambda$3305/0x00000008015b0668@69452874\n",
       "\u001b[36md13CfluidAfterDissolutionFun\u001b[39m: \u001b[32mStep\u001b[39m => \u001b[32mDouble\u001b[39m = ammonite.$sess.cmd38$Helper$$Lambda$3306/0x00000008015b0a38@f2806ae"
      ]
     },
     "execution_count": 39,
     "metadata": {},
     "output_type": "execute_result"
    }
   ],
   "source": [
    "//Fluid composition based on the amount of carbonate dissolution\n",
    "//Oxygen composition for fluid based on water-rock interactions during dissolution\n",
    "val d18OfluidAfterDissolutionFun = (s:Step) => {\n",
    "    val cOsystem = (weightFractionFluid(s) * cOfluid) + ((1 - weightFractionFluid(s)) * cOcalcite)\n",
    "    (((d18OfluidMixed(s) * weightFractionFluid(s) * cOfluid) + (d18OcalciteBulkFinal(s-1) * (1 - weightFractionFluid(s)) * cOcalcite)) / cOsystem)    \n",
    "}\n",
    "\n",
    "//carbon composition for fluid based on water-rock interactions during dissolution\n",
    "val d13CfluidAfterDissolutionFun = (s:Step) => { \n",
    "    val cCsystem = (weightFractionFluid(s) * cCfluid) + ((1 - weightFractionFluid(s)) * cCcalcite)\n",
    "    (((d13CfluidMixed(s) * weightFractionFluid(s) * cCfluid) + (d13CcalciteBulkFinal(s-1) * (1 - weightFractionFluid(s)) * cCcalcite)) / cCsystem)\n",
    "}"
   ]
  },
  {
   "cell_type": "markdown",
   "metadata": {},
   "source": [
    "#### Carbon and Oxygen composition of the new phase of calcite that will precipitate based on the composition of the fluid within the system and the composition of the calcite which dissolved in the previous step. \n",
    "\n",
    "The below equations assume equilibrium, therefore fraction of recrystallisation has not yet been applied. This would be the new composition of the calcite and this would be equate to the new bulk composition if 100% recrystallisation (complete) has occured.\n",
    "\n",
    "Oxygen composition of the new phase of calcite is based on the **Kim et al. (1997)** equation. \n",
    "\n",
    "Carbon composition of the new phase of calcite is based on **Banner & Hanson (1990)** equation."
   ]
  },
  {
   "cell_type": "code",
   "execution_count": 40,
   "metadata": {},
   "outputs": [
    {
     "data": {
      "text/plain": [
       "\u001b[36md18OcalciteNewPhaseFun\u001b[39m: \u001b[32mStep\u001b[39m => \u001b[32mDouble\u001b[39m = ammonite.$sess.cmd39$Helper$$Lambda$3313/0x00000008015b28d0@6400813b\n",
       "\u001b[36md13CcalciteNewPhaseFun\u001b[39m: \u001b[32mStep\u001b[39m => \u001b[32mDouble\u001b[39m = ammonite.$sess.cmd39$Helper$$Lambda$3314/0x00000008015b2ca0@843a777"
      ]
     },
     "execution_count": 40,
     "metadata": {},
     "output_type": "execute_result"
    }
   ],
   "source": [
    "//Bulk composition of the new phase of calcite that has precipitated\n",
    "//Oxygen composition of the new recrystallised phase of calcite\n",
    "val d18OcalciteNewPhaseFun = (s:Step) => (18.03 * (pow(10,3) * pow((sampleTempRecrystallised(s) + 273.15), -1)) - 32.42 + (d18OfluidAfterDissolution(s)/1.03091-30.86))\n",
    "\n",
    "//Carbon composition of the new recrystallised phase of calcite\n",
    "val d13CcalciteNewPhaseFun = (s:Step) => { \n",
    "    val cCsystem = (weightFractionFluid(s) * cCfluid) + ((1 - weightFractionFluid(s)) * cCcalcite)\n",
    "    val alpha = math.exp((-2.4612+(7666.3/100) - (2.9880*pow(10,3)/pow((sampleTempRecrystallised(s)+273.15),6)))/1000)\n",
    "    val d13Csystem = ((d13CfluidAfterDissolution(s) * cCfluid * weightFractionFluid(s)) + (d13CcalciteBulkFinal(s-1) * cCcalcite * (1-weightFractionFluid(s))))/cCsystem\n",
    "    ((d13Csystem * cCsystem * alpha) - (1000 * cCfluid * weightFractionFluid(s) * (1-alpha)))/((cCcalcite * (1-weightFractionFluid(s))*alpha)+cCfluid*weightFractionFluid(s))\n",
    "}"
   ]
  },
  {
   "cell_type": "markdown",
   "metadata": {},
   "source": [
    "#### Oxygen and Carbon composition of the fluid once the new phase of calcite has precipitated. This is the fluid that remains once calcite has reprecipitated after dissolution.\n",
    "\n",
    "Oxygen composition of the fluid uses the **Kim et al. (1997)** equation as the fluid composition will be based on the calcite that precipitated. \n",
    "\n",
    "Carbon composition of the fluid uses the **Banner and Hanson (1990)** equation. "
   ]
  },
  {
   "cell_type": "code",
   "execution_count": 41,
   "metadata": {},
   "outputs": [
    {
     "data": {
      "text/plain": [
       "\u001b[36md18OfluidAfterReprecipitationFun\u001b[39m: \u001b[32mStep\u001b[39m => \u001b[32mDouble\u001b[39m = ammonite.$sess.cmd40$Helper$$Lambda$3321/0x00000008015b4b38@509736c9\n",
       "\u001b[36md13CfluidAfterReprecipitationFun\u001b[39m: \u001b[32mStep\u001b[39m => \u001b[32mDouble\u001b[39m = ammonite.$sess.cmd40$Helper$$Lambda$3322/0x00000008015b4f08@7dcbbfc4"
      ]
     },
     "execution_count": 41,
     "metadata": {},
     "output_type": "execute_result"
    }
   ],
   "source": [
    "//Fluid composition after recrystallisation (complete/partially)\n",
    "//Oxygen compositon for fluid based on new phase of carbonate\n",
    "val d18OfluidAfterReprecipitationFun = (s:Step) => ((d18OcalciteNewPhase(s)*1.03091+30.86)+32.42)/(18.03*pow(10,3)*pow((sampleTempRecrystallised(s)+273.15),-1)) * fractionRecrystallisation(s) + (d18OfluidAfterReprecipitation(s-1) * (1 - fractionRecrystallisation(s)))\n",
    "\n",
    "//carbon composition based on carbon within the system after recrystallisation\n",
    "val d13CfluidAfterReprecipitationFun = (s:Step) => {\n",
    "    val fracNewCalcite = fractionRecrystallisation(s) * (1 - weightFractionFluid(s))\n",
    "    (d13CfluidAfterDissolution(s) - (d13CcalciteNewPhase(s) * (fracNewCalcite/(cCcalcite + fracNewCalcite))))\n",
    " }\n"
   ]
  },
  {
   "cell_type": "markdown",
   "metadata": {},
   "source": [
    "#### Bulk composition of the calcite based on how much of the new phase makes up the new bulk rock utilising the fraction of recrystallisation. \n",
    "\n",
    "These equations take the composition of the new phase that will have reprecipitated plus how much of the original bulk rock remains prior to recrystallisation."
   ]
  },
  {
   "cell_type": "code",
   "execution_count": 42,
   "metadata": {},
   "outputs": [
    {
     "data": {
      "text/plain": [
       "\u001b[36md18OcalciteBulkFinalFun\u001b[39m: \u001b[32mStep\u001b[39m => \u001b[32mDouble\u001b[39m = ammonite.$sess.cmd41$Helper$$Lambda$3329/0x00000008015b6da0@18bf19df\n",
       "\u001b[36md13CcalciteBulkFinalFun\u001b[39m: \u001b[32mStep\u001b[39m => \u001b[32mDouble\u001b[39m = ammonite.$sess.cmd41$Helper$$Lambda$3330/0x00000008015b7170@7758e0b5"
      ]
     },
     "execution_count": 42,
     "metadata": {},
     "output_type": "execute_result"
    }
   ],
   "source": [
    "//bulk composition of calcite based on the amount of recrystallisation\n",
    "//oxygen composition\n",
    "val d18OcalciteBulkFinalFun = (s:Step) => (fractionRecrystallisation(s) * d18OcalciteNewPhase(s)) + ((1 - fractionRecrystallisation(s)) * d18OcalciteBulkFinal(s-1))\n",
    "\n",
    "//carbon composition\n",
    "val d13CcalciteBulkFinalFun = (s:Step) => (fractionRecrystallisation(s) * d13CcalciteNewPhase(s)) + ((1 - fractionRecrystallisation(s)) * d13CcalciteBulkFinal(s-1))"
   ]
  },
  {
   "cell_type": "markdown",
   "metadata": {},
   "source": [
    "#### Fluid composition calcuated from my raw measured data\n",
    "\n",
    "This is based on the calcite composition, which is affected by recrystallisation, therefore is not the true compsoiton of the fluid it is an enriched value. A final back calculated fluid composition is done using **Kim et al., (1997)**, the maximum temperature an the final calcite composition."
   ]
  },
  {
   "cell_type": "code",
   "execution_count": 43,
   "metadata": {},
   "outputs": [
    {
     "data": {
      "text/plain": [
       "\u001b[36md18OfluidBackCalculatedFun\u001b[39m: \u001b[32mStep\u001b[39m => \u001b[32mDouble\u001b[39m = ammonite.$sess.cmd42$Helper$$Lambda$3337/0x00000008015b90b8@6fa80dbe"
      ]
     },
     "execution_count": 43,
     "metadata": {},
     "output_type": "execute_result"
    }
   ],
   "source": [
    "//back calculated fluid composition from clumped temperature and bulk calcite oxygen composition\n",
    "val d18OfluidBackCalculatedFun = (s:Step) => (d18OcalciteBulkFinal(s)*1.03092+30.92) - (18.03*(pow(10,3)/(sampleTempRecrystallised(s)+273.15))-32.42)\n"
   ]
  },
  {
   "cell_type": "markdown",
   "metadata": {},
   "source": [
    "#### Modelling the potential temperature ogrnaic material has reached during burial. \n",
    "\n",
    "A simple first order arrehnius equation **(Burnham & Sweeney, 1989)**. \n",
    "\n",
    "For simplicity we has assumed that the freuqency factor and activation energy remain *constant*. Values taken from realistic values for the Eagle Ford and similar marine shales **(Burnham & Sweeney, 1989; Qigui et al., 2010)**."
   ]
  },
  {
   "cell_type": "code",
   "execution_count": 44,
   "metadata": {},
   "outputs": [
    {
     "data": {
      "text/plain": [
       "\u001b[36mreactionRateOrganicsFun\u001b[39m: \u001b[32mStep\u001b[39m => \u001b[32mDouble\u001b[39m = ammonite.$sess.cmd43$Helper$$Lambda$3341/0x00000008015ba500@16dc6ff\n",
       "\u001b[36mapparentTempOrganicsFun\u001b[39m: \u001b[32mStep\u001b[39m => \u001b[32mDouble\u001b[39m = ammonite.$sess.cmd43$Helper$$Lambda$3342/0x00000008015ba8d0@41226f91"
      ]
     },
     "execution_count": 44,
     "metadata": {},
     "output_type": "execute_result"
    }
   ],
   "source": [
    "//Reaction rate and Arrhenius equation\n",
    "val reactionRateOrganicsFun = (s:Step) => math.pow(2, ((burialTemperature(s)-burialTemperature(s.i))/10))*reactionRateOrganics(s.i)\n",
    "\n",
    "val apparentTempOrganicsFun = (s:Step) => Ea/((math.log(A)-math.log(reactionRateOrganics(s)))*R) - 273.15"
   ]
  },
  {
   "cell_type": "markdown",
   "metadata": {},
   "source": [
    "#### Defining the model\n",
    "The below model is calibrated to the hottest sample (EF316)"
   ]
  },
  {
   "cell_type": "code",
   "execution_count": 45,
   "metadata": {},
   "outputs": [
    {
     "name": "stdout",
     "output_type": "stream",
     "text": [
      "A total of 1 unique models were defined, attempting to create a list now.\n",
      "Models list successfully created.\n"
     ]
    },
    {
     "data": {
      "text/html": [
       "<b>Model characteristics</b><table class=\"table\"><tr><th>Feature</th><th>Value</th></tr><tr><td>Name</td><td>eaglefordModel4</td></tr><tr><td>Nb of steps</td><td>140</td></tr><tr><td>Nb of models</td><td>1</td></tr><tr><td>Nb grid cells</td><td>19</td></tr><tr><td>Nb of operations per step</td><td>27</td></tr><tr><td>Total nb of operations</td><td>71820</td></tr></table>"
      ]
     },
     "metadata": {},
     "output_type": "display_data"
    }
   ],
   "source": [
    "// Define the model here\n",
    "val EagleFordModel = new SteppedModel(numberOfSteps,\"Recrystallisation Model\")\n",
    "    .setGrid(19)\n",
    "    .defineMathematicalModel(\n",
    "      age =>> ageOfStep(initialAge,finalAge),\n",
    "      depth =>> {(s:Step) => {burialDepthFromAgeModel(age,burialHistory).apply(s)+initalBurialAtModelStart(s.i)}},\n",
    "      maxBurialDepth =>> {(s:Step) => {if(depth(s)>=depth(s-1)){depth(s)}else{depth(s-1)}}},\n",
    "      surfaceTemperature =>> surfaceTemperaturesAtAge(age, surfaceTemperaturesHistory),\n",
    "      geothermalGradient =>> geothermalGradientAtAge(age,geothermalGradientHistory),\n",
    "      burialTemperature =>> burialTemperatureFromGeothermalGradient(surfaceTemperature,depth,geothermalGradient),\n",
    "      dT =>> dTFun,\n",
    "      reactionRateOrganics =>> reactionRateOrganicsFun,\n",
    "      apparentTempOrganics =>> {(s:Step) => {if(burialTemperature(s)-burialTemperature(s-1)>0){apparentTempOrganicsFun(s)}else{apparentTempOrganics(s-1)}}},\n",
    "      D47eq =>> {(s:Step) => (0.0390 * pow(10,6)/pow((burialTemperature(s)+273.15),2) + 0.154)},\n",
    "      D47i =>> D47iFun,\n",
    "      SampleTemp =>> {(s:Step) => (pow((0.0390 * pow(10, 6))/(D47eq(s)-0.154), 0.5)-273.15)}, //at equilibrium  \n",
    "      fractionRecrystallisation =>> {(s:Step) => {if(burialTemperature(s)-burialTemperature(s-1)>0){fractionRecrystallisation(s)}else{0.0}}},\n",
    "      weightFractionFluid =>> {(s:Step) => (Poro * rhofluid / (Poro * rhofluid + rhocal))},\n",
    "      d18OfluidMixed =>> d18OfluidMixedFun,\n",
    "      d18OfluidAfterDissolution =>> d18OfluidAfterDissolutionFun,\n",
    "      d18OcalciteNewPhase =>> {(s:Step) => {if(fractionRecrystallisation(s)>0){d18OcalciteNewPhaseFun(s)}else{d18OcalciteNewPhase(s-1)}}},\n",
    "      d18OfluidAfterReprecipitation =>> d18OfluidAfterReprecipitationFun,\n",
    "      d18OcalciteBulkFinal =>> d18OcalciteBulkFinalFun,\n",
    "      d13CfluidMixed =>> d13CfluidMixedFun,\n",
    "      d13CfluidAfterDissolution =>> d13CfluidAfterDissolutionFun,\n",
    "      d13CcalciteNewPhase =>> {(s:Step) => {if(fractionRecrystallisation(s)>0){d13CcalciteNewPhaseFun(s)}else{d13CcalciteNewPhase(s-1)}}},\n",
    "      d13CfluidAfterReprecipitation =>> d13CfluidAfterReprecipitationFun,\n",
    "      d13CcalciteBulkFinal =>> d13CcalciteBulkFinalFun,\n",
    "      D47rec =>> {(s:Step) => (fractionRecrystallisation(s) * D47eq(s)) + ((1 - fractionRecrystallisation(s)) * D47rec(s-1))},\n",
    "      sampleTempRecrystallised =>> {(s:Step) => (pow((0.0390 * pow(10, 6))/(D47rec(s)-0.154), 0.5)-273.15)}, //Anderson et al., 2021 in prep\n",
    "      d18OfluidBackCalculated =>> d18OfluidBackCalculatedFun,\n",
    "    ) \n",
    "    .defineInitialModelConditions(\n",
    "      AllCells(initialAge,ageList),\n",
    "      AllCells(finalAge,finalAgeList),\n",
    "      AllCells(D47i, List(.59)),\n",
    "      //AllCells(reactionRateOrganics, List(3.28E-26,3.28E-25,3.28E-24)),  \n",
    "      PerCell(initalBurialAtModelStart,List(\n",
    "        (List(-0.50),Seq(0)),\n",
    "        (List(-0.91),Seq(1)),\n",
    "        (List(-1.22),Seq(2)),\n",
    "        (List(-2.90),Seq(3)),\n",
    "        (List(-4.57),Seq(4)),\n",
    "        (List(-4.88),Seq(5)),\n",
    "        (List(-4.90),Seq(6)),\n",
    "        (List(-6.10),Seq(7)),\n",
    "        (List(-6.40),Seq(8)),\n",
    "        (List(-6.71),Seq(9)),\n",
    "        (List(-25.90),Seq(10)),\n",
    "        (List(-28.96),Seq(11)),\n",
    "        (List(-29.87),Seq(12)),\n",
    "        (List(-35.05),Seq(13)),\n",
    "        (List(-35.36),Seq(14)),\n",
    "        (List(-35.97),Seq(15)),\n",
    "        (List(-36.58),Seq(16)),\n",
    "        (List(-37.19),Seq(17)),\n",
    "        (List(-38.90),Seq(18)))),\n",
    "    )\n",
    "    .defineCalibration(\n",
    "        D47rec.isEqualTo(0.426).atCells(Seq(4)),\n",
    "        apparentTempOrganics.isBetween(45.0, 70.0).atCells(Seq(4)),\n",
    "        //d18OfluidBackCalculated.isEqualTo(7.03).atCells(Seq(4)),\n",
    "        //d18OcalciteBulkFinal.isEqualTo(-8.35).atCells(Seq(4)),\n",
    "        //d13CcalciteBulkFinal.isEqualTo(0.33).atCells(Seq(4)),\n",
    "    )                 "
   ]
  },
  {
   "cell_type": "code",
   "execution_count": 46,
   "metadata": {},
   "outputs": [
    {
     "data": {
      "text/html": [
       "Run progress:<br>#################################################################################################### 100.0%"
      ]
     },
     "metadata": {},
     "output_type": "display_data"
    }
   ],
   "source": [
    "sim.evaluate(EagleFordModel)"
   ]
  },
  {
   "cell_type": "code",
   "execution_count": 94,
   "metadata": {},
   "outputs": [
    {
     "data": {
      "text/html": [
       "<b>eaglefordModel4</b> <br> Contains 1 models each comprising 140 timesteps<table class=\"table\" style=\"align: center; display:block; background-color:fffff0; border: 2px solid green; height: 450px; overflow-y: scroll\"><tr><th style=\"border: 1px solid green; background-color:#ebebec\">Model#</th><th style=\"border: 1px solid green; background-color:#ebebec\">Initial model conditions</th><th style=\"border: 1px solid green; background-color:#ebebec\">RSME</th></tr><tr style=\"border: 1px solid green; background-color:fffff0\"><td style=\"border: 1px solid green; background-color:fffff0\">1</td><td><table class=\"table\"><tr><td>Initial age</td><td>97.0 at all cells</td></tr><tr><td>Final age</td><td>0.0 at all cells</td></tr><tr><td>Δ47i</td><td>0.59 at all cells</td></tr><tr><td>Initial burial at model start</td><td>-0.5 at cell (0), -0.91 at cell (1), -1.22 at cell (2), -2.9 at cell (3), -4.57 at cell (4), -4.88 at cell (5), -4.9 at cell (6), -6.1 at cell (7), -6.4 at cell (8), -6.71 at cell (9), -25.9 at cell (10), -28.96 at cell (11), -29.87 at cell (12), -35.05 at cell (13), -35.36 at cell (14), -35.97 at cell (15), -36.58 at cell (16), -37.19 at cell (17), -38.9 at cell (18), </td></tr></table></td><td style=\"border: 1px solid green; background-color:fffff0\">0.003801525368053728</td></tr></table>"
      ]
     },
     "metadata": {},
     "output_type": "display_data"
    }
   ],
   "source": [
    "val results = sim.getResults(EagleFordModel)"
   ]
  }
 ],
 "metadata": {
  "kernelspec": {
   "display_name": "Scala",
   "language": "scala",
   "name": "scala"
  },
  "language_info": {
   "codemirror_mode": "text/x-scala",
   "file_extension": ".sc",
   "mimetype": "text/x-scala",
   "name": "scala",
   "nbconvert_exporter": "script",
   "version": "2.13.3"
  }
 },
 "nbformat": 4,
 "nbformat_minor": 4
}
